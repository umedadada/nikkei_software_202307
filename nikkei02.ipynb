{
  "nbformat": 4,
  "nbformat_minor": 0,
  "metadata": {
    "colab": {
      "private_outputs": true,
      "provenance": [],
      "toc_visible": true,
      "authorship_tag": "ABX9TyNJUxpcauVCNKZHvDQxzC/g",
      "include_colab_link": true
    },
    "kernelspec": {
      "name": "python3",
      "display_name": "Python 3"
    },
    "language_info": {
      "name": "python"
    }
  },
  "cells": [
    {
      "cell_type": "markdown",
      "metadata": {
        "id": "view-in-github",
        "colab_type": "text"
      },
      "source": [
        "<a href=\"https://colab.research.google.com/github/umedadada/nikkei_software_202307/blob/master/nikkei02.ipynb\" target=\"_parent\"><img src=\"https://colab.research.google.com/assets/colab-badge.svg\" alt=\"Open In Colab\"/></a>"
      ]
    },
    {
      "cell_type": "code",
      "execution_count": null,
      "metadata": {
        "id": "-PuhQVGNqilo"
      },
      "outputs": [],
      "source": [
        "!git clone https://github.com/umedadada/nikkei_software_202307.git"
      ]
    },
    {
      "cell_type": "code",
      "source": [
        "# 使用ライブラリの呼び出し\n",
        "import pandas as pd\n",
        "import numpy as np\n",
        "import plotly.express as px"
      ],
      "metadata": {
        "id": "XKj-0pDhqtoF"
      },
      "execution_count": null,
      "outputs": []
    },
    {
      "cell_type": "code",
      "source": [
        "# データの読み込み\n",
        "df=pd.read_csv('/content/nikkei_software_202307/data/company_salary.csv')"
      ],
      "metadata": {
        "id": "ZLq-bEknqup1"
      },
      "execution_count": null,
      "outputs": []
    },
    {
      "cell_type": "code",
      "source": [
        "# データのサイズの確認\n",
        "df.shape"
      ],
      "metadata": {
        "id": "Wa2eTa3Oq_Ri"
      },
      "execution_count": null,
      "outputs": []
    },
    {
      "cell_type": "code",
      "source": [
        "# 変数の確認\n",
        "df.info()"
      ],
      "metadata": {
        "id": "UXZ4yVA6rBWa"
      },
      "execution_count": null,
      "outputs": []
    },
    {
      "cell_type": "code",
      "source": [
        "# 平均年収の比較\n",
        "df_mean=df.groupby('company', as_index=False).mean()\n",
        "df_mean.columns=['company','mean_age','mean_salary']"
      ],
      "metadata": {
        "id": "wVVBH5RcrERB"
      },
      "execution_count": null,
      "outputs": []
    },
    {
      "cell_type": "code",
      "source": [
        "# 平均年収を棒グラフで比較\n",
        "fig = px.bar(df_mean, x='company', y='mean_salary',color='company')\n",
        "fig.show()"
      ],
      "metadata": {
        "id": "jGsYJqJlNKCO"
      },
      "execution_count": null,
      "outputs": []
    },
    {
      "cell_type": "code",
      "source": [
        "# 各変数の平均値を確認\n",
        "df_mean"
      ],
      "metadata": {
        "id": "uyDjPgwvNhl-"
      },
      "execution_count": null,
      "outputs": []
    },
    {
      "cell_type": "code",
      "source": [
        "# データ全体の年齢と年収の相関を確認する\n",
        "fig = px.scatter(df, x='age', y='salary')\n",
        "fig.show()"
      ],
      "metadata": {
        "id": "Kcj9AmWKeaSe"
      },
      "execution_count": null,
      "outputs": []
    },
    {
      "cell_type": "code",
      "source": [
        "# データ全体の年齢と年収の回帰直線を確認する\n",
        "fig = px.scatter(df, x='age', y='salary',trendline='ols')\n",
        "fig.show()"
      ],
      "metadata": {
        "id": "u4BT78Atej2A"
      },
      "execution_count": null,
      "outputs": []
    },
    {
      "cell_type": "code",
      "source": [
        "# 会社ごとに色分けした散布図を描画する\n",
        "fig = px.scatter(df, x='age', y='salary',color='company')\n",
        "fig.show()"
      ],
      "metadata": {
        "id": "dKWPUor8YcU-"
      },
      "execution_count": null,
      "outputs": []
    },
    {
      "cell_type": "code",
      "source": [
        "# 会社ごとに回帰直線を描画する\n",
        "fig = px.scatter(df, x='age', y='salary',trendline='ols',color='company')\n",
        "fig.show()"
      ],
      "metadata": {
        "id": "AqL6_MvrYr_y"
      },
      "execution_count": null,
      "outputs": []
    },
    {
      "cell_type": "code",
      "source": [
        "# パッケージのインストール\n",
        "!pip install pingouin "
      ],
      "metadata": {
        "id": "p-Jyo0aFeNF1"
      },
      "execution_count": null,
      "outputs": []
    },
    {
      "cell_type": "code",
      "source": [
        "# ライブラリの読み込み\n",
        "from pingouin import ancova"
      ],
      "metadata": {
        "id": "4FES9VQzSAZF"
      },
      "execution_count": null,
      "outputs": []
    },
    {
      "cell_type": "code",
      "source": [
        "# 共分散分析の実施\n",
        "ancova(data=df, dv='salary', covar='age', between='company')"
      ],
      "metadata": {
        "id": "ZSZlHaKRg3yz"
      },
      "execution_count": null,
      "outputs": []
    },
    {
      "cell_type": "markdown",
      "source": [
        "sklearnを使う場合"
      ],
      "metadata": {
        "id": "mReH4gTdSA2X"
      }
    },
    {
      "cell_type": "code",
      "source": [
        "from sklearn.linear_model import LinearRegression\n",
        "x=df['age'].values.reshape(-1, 1)\n",
        "y=df['salary']\n",
        "model = LinearRegression()\n",
        "model.fit(x, y)"
      ],
      "metadata": {
        "id": "LuEUzIX7SBru"
      },
      "execution_count": null,
      "outputs": []
    },
    {
      "cell_type": "code",
      "source": [
        "model.coef_\n",
        "model.intercept_"
      ],
      "metadata": {
        "id": "Zt9R3WutSAMc"
      },
      "execution_count": null,
      "outputs": []
    }
  ]
}