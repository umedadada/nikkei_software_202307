{
  "cells": [
    {
      "cell_type": "markdown",
      "metadata": {
        "colab_type": "text",
        "id": "view-in-github"
      },
      "source": [
        "<a href=\"https://colab.research.google.com/github/umedadada/nikkei_software_202307/blob/master/sellection_bias.ipynb\" target=\"_parent\"><img src=\"https://colab.research.google.com/assets/colab-badge.svg\" alt=\"Open In Colab\"/></a>"
      ]
    },
    {
      "cell_type": "code",
      "execution_count": null,
      "metadata": {
        "id": "o43bjP6TZWrG"
      },
      "outputs": [],
      "source": [
        "# !rm -r -f ./nikkei_software_202307"
      ]
    },
    {
      "cell_type": "code",
      "execution_count": null,
      "metadata": {
        "id": "iNLXmeinXc5g"
      },
      "outputs": [],
      "source": [
        "!git clone https://github.com/umedadada/nikkei_software_202307.git"
      ]
    },
    {
      "cell_type": "code",
      "execution_count": null,
      "metadata": {
        "id": "15N4NuQ_Xd8P"
      },
      "outputs": [],
      "source": [
        "# 使用ライブラリの呼び出し\n",
        "import pandas as pd\n",
        "import numpy as np\n",
        "import plotly.graph_objects as go\n",
        "import plotly.express as px"
      ]
    },
    {
      "cell_type": "code",
      "execution_count": null,
      "metadata": {
        "id": "nGuI09gwXi9c"
      },
      "outputs": [],
      "source": [
        "df=pd.read_csv('/content/nikkei_software_202307/data/sellectionBias.csv')"
      ]
    },
    {
      "cell_type": "code",
      "execution_count": null,
      "metadata": {
        "id": "pN3j_HIaXtct"
      },
      "outputs": [],
      "source": [
        "fig=px.scatter(df,x='english',y='mathmatics')"
      ]
    },
    {
      "cell_type": "code",
      "execution_count": null,
      "metadata": {
        "id": "APYXV_hMYBwH"
      },
      "outputs": [],
      "source": [
        "fig.show()"
      ]
    },
    {
      "cell_type": "code",
      "execution_count": null,
      "metadata": {
        "id": "feZBE_U-j1SJ"
      },
      "outputs": [],
      "source": [
        "x=np.arange(0, 200, 0.1)\n",
        "y=260-x\n",
        "\n",
        "tmp=pd.DataFrame()\n",
        "tmp['english']=x\n",
        "tmp['mathmatics']=y"
      ]
    },
    {
      "cell_type": "code",
      "execution_count": null,
      "metadata": {
        "id": "CQ92RCywjlec"
      },
      "outputs": [],
      "source": [
        "fig=go.Figure()"
      ]
    },
    {
      "cell_type": "code",
      "execution_count": null,
      "metadata": {
        "id": "yJaiym4obFu5"
      },
      "outputs": [],
      "source": [
        "fig.add_trace(\n",
        "  go.Scatter(\n",
        "    x=df['english'],  # 範囲の点列\n",
        "    y=df['mathmatics'],\n",
        "    mode='markers', opacity=0.7,  # 範囲の点列\n",
        "    showlegend=False\n",
        "))\n",
        "fig.add_trace(\n",
        "  go.Scatter(\n",
        "    name='合格ライン',\n",
        "    x=tmp['english'],  # 範囲の点列\n",
        "    y=tmp['mathmatics'],  # 範囲の点列\n",
        "    mode=\"lines\",  # 線・マーカー・テキストの有無 \n",
        "    showlegend=True  # 凡例に追加しない\n",
        "))\n",
        "\n",
        "# 横軸の設定\n",
        "xaxis = {\n",
        "  \"title\": \"english\",  # 軸ラベル\n",
        "  \"range\": (0, 200),  # 表示範囲\n",
        "}\n",
        "# 縦軸の設定\n",
        "yaxis = {\n",
        "  \"title\": \"mathmatics\",  # 軸ラベル\n",
        "  \"range\": (0, 200),  # 表示範囲\n",
        "}\n",
        "# グラフのレイアウトを変更\n",
        "fig.update_layout(\n",
        "  xaxis=xaxis,  # 横軸\n",
        "  yaxis=yaxis,  # 縦軸\n",
        ")\n",
        "\n",
        "fig.show()"
      ]
    },
    {
      "cell_type": "code",
      "execution_count": null,
      "metadata": {
        "id": "e8ZxAXq-YDiC"
      },
      "outputs": [],
      "source": [
        "bias_df=df[df['english']+df['mathmatics']>260]"
      ]
    },
    {
      "cell_type": "code",
      "execution_count": null,
      "metadata": {
        "id": "fvbybnBZYlsB"
      },
      "outputs": [],
      "source": [
        "fig=px.scatter(bias_df,x='english',y='mathmatics')"
      ]
    },
    {
      "cell_type": "code",
      "execution_count": null,
      "metadata": {
        "id": "Pt_oknBcYqk8"
      },
      "outputs": [],
      "source": [
        "fig.show()"
      ]
    },
    {
      "cell_type": "code",
      "execution_count": null,
      "metadata": {
        "id": "xpcduOLiYsan"
      },
      "outputs": [],
      "source": []
    }
  ],
  "metadata": {
    "colab": {
      "authorship_tag": "ABX9TyOoSRajjbURXe9rt6Gz81Ao",
      "include_colab_link": true,
      "private_outputs": true,
      "provenance": []
    },
    "kernelspec": {
      "display_name": "Python 3",
      "name": "python3"
    },
    "language_info": {
      "name": "python"
    }
  },
  "nbformat": 4,
  "nbformat_minor": 0
}
