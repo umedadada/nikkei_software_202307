{
  "nbformat": 4,
  "nbformat_minor": 0,
  "metadata": {
    "colab": {
      "private_outputs": true,
      "provenance": [],
      "authorship_tag": "ABX9TyOoSRajjbURXe9rt6Gz81Ao",
      "include_colab_link": true
    },
    "kernelspec": {
      "name": "python3",
      "display_name": "Python 3"
    },
    "language_info": {
      "name": "python"
    }
  },
  "cells": [
    {
      "cell_type": "markdown",
      "metadata": {
        "id": "view-in-github",
        "colab_type": "text"
      },
      "source": [
        "<a href=\"https://colab.research.google.com/github/umedadada/nikkei_software_202307/blob/master/sellection_bias.ipynb\" target=\"_parent\"><img src=\"https://colab.research.google.com/assets/colab-badge.svg\" alt=\"Open In Colab\"/></a>"
      ]
    },
    {
      "cell_type": "code",
      "source": [
        "# !rm -r -f ./nikkei_software_202307"
      ],
      "metadata": {
        "id": "o43bjP6TZWrG"
      },
      "execution_count": null,
      "outputs": []
    },
    {
      "cell_type": "code",
      "execution_count": null,
      "metadata": {
        "id": "iNLXmeinXc5g"
      },
      "outputs": [],
      "source": [
        "!git clone https://github.com/umedadada/nikkei_software_202307.git"
      ]
    },
    {
      "cell_type": "code",
      "source": [
        "# 使用ライブラリの呼び出し\n",
        "import pandas as pd\n",
        "import numpy as np\n",
        "import plotly.graph_objects as go\n",
        "import plotly.express as px"
      ],
      "metadata": {
        "id": "15N4NuQ_Xd8P"
      },
      "execution_count": null,
      "outputs": []
    },
    {
      "cell_type": "code",
      "source": [
        "df=pd.read_csv('/content/nikkei_software_202307/sellectionBias.csv')"
      ],
      "metadata": {
        "id": "nGuI09gwXi9c"
      },
      "execution_count": null,
      "outputs": []
    },
    {
      "cell_type": "code",
      "source": [
        "fig=px.scatter(df,x='english',y='mathmatics')"
      ],
      "metadata": {
        "id": "pN3j_HIaXtct"
      },
      "execution_count": null,
      "outputs": []
    },
    {
      "cell_type": "code",
      "source": [
        "fig.show()"
      ],
      "metadata": {
        "id": "APYXV_hMYBwH"
      },
      "execution_count": null,
      "outputs": []
    },
    {
      "cell_type": "code",
      "source": [
        "x=np.arange(0, 200, 0.1)\n",
        "y=260-x\n",
        "\n",
        "tmp=pd.DataFrame()\n",
        "tmp['english']=x\n",
        "tmp['mathmatics']=y"
      ],
      "metadata": {
        "id": "feZBE_U-j1SJ"
      },
      "execution_count": null,
      "outputs": []
    },
    {
      "cell_type": "code",
      "source": [
        "fig=go.Figure()"
      ],
      "metadata": {
        "id": "CQ92RCywjlec"
      },
      "execution_count": null,
      "outputs": []
    },
    {
      "cell_type": "code",
      "source": [
        "fig.add_trace(\n",
        "  go.Scatter(\n",
        "    x=df['english'],  # 範囲の点列\n",
        "    y=df['mathmatics'],\n",
        "    mode='markers', opacity=0.7,  # 範囲の点列\n",
        "    showlegend=False\n",
        "))\n",
        "fig.add_trace(\n",
        "  go.Scatter(\n",
        "    name='合格ライン',\n",
        "    x=tmp['english'],  # 範囲の点列\n",
        "    y=tmp['mathmatics'],  # 範囲の点列\n",
        "    mode=\"lines\",  # 線・マーカー・テキストの有無 \n",
        "    showlegend=True  # 凡例に追加しない\n",
        "))\n",
        "\n",
        "# 横軸の設定\n",
        "xaxis = {\n",
        "  \"title\": \"english\",  # 軸ラベル\n",
        "  \"range\": (0, 200),  # 表示範囲\n",
        "}\n",
        "# 縦軸の設定\n",
        "yaxis = {\n",
        "  \"title\": \"mathmatics\",  # 軸ラベル\n",
        "  \"range\": (0, 200),  # 表示範囲\n",
        "}\n",
        "# グラフのレイアウトを変更\n",
        "fig.update_layout(\n",
        "  xaxis=xaxis,  # 横軸\n",
        "  yaxis=yaxis,  # 縦軸\n",
        ")\n",
        "\n",
        "fig.show()"
      ],
      "metadata": {
        "id": "yJaiym4obFu5"
      },
      "execution_count": null,
      "outputs": []
    },
    {
      "cell_type": "code",
      "source": [
        "bias_df=df[df['english']+df['mathmatics']>260]"
      ],
      "metadata": {
        "id": "e8ZxAXq-YDiC"
      },
      "execution_count": null,
      "outputs": []
    },
    {
      "cell_type": "code",
      "source": [
        "fig=px.scatter(bias_df,x='english',y='mathmatics')"
      ],
      "metadata": {
        "id": "fvbybnBZYlsB"
      },
      "execution_count": null,
      "outputs": []
    },
    {
      "cell_type": "code",
      "source": [
        "fig.show()"
      ],
      "metadata": {
        "id": "Pt_oknBcYqk8"
      },
      "execution_count": null,
      "outputs": []
    },
    {
      "cell_type": "code",
      "source": [],
      "metadata": {
        "id": "xpcduOLiYsan"
      },
      "execution_count": null,
      "outputs": []
    }
  ]
}