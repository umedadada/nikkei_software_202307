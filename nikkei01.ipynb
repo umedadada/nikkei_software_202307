{
  "nbformat": 4,
  "nbformat_minor": 0,
  "metadata": {
    "colab": {
      "private_outputs": true,
      "provenance": [],
      "authorship_tag": "ABX9TyNlmBaeXiHL3krficXU1MA/",
      "include_colab_link": true
    },
    "kernelspec": {
      "name": "python3",
      "display_name": "Python 3"
    },
    "language_info": {
      "name": "python"
    },
    "gpuClass": "standard"
  },
  "cells": [
    {
      "cell_type": "markdown",
      "metadata": {
        "id": "view-in-github",
        "colab_type": "text"
      },
      "source": [
        "<a href=\"https://colab.research.google.com/github/umedadada/nikkei_software_202307/blob/add_article1/nikkei01.ipynb\" target=\"_parent\"><img src=\"https://colab.research.google.com/assets/colab-badge.svg\" alt=\"Open In Colab\"/></a>"
      ]
    },
    {
      "cell_type": "code",
      "execution_count": null,
      "metadata": {
        "id": "H-SUJ4FWpLIP"
      },
      "outputs": [],
      "source": [
        "# !git clone https://github.com/umedadada/nikkei_software_202307.git"
      ]
    },
    {
      "cell_type": "code",
      "source": [
        "# 使用ライブラリの呼び出し\n",
        "import pandas as pd\n",
        "import plotly.express as px"
      ],
      "metadata": {
        "id": "AEXw9yz6qI3z"
      },
      "execution_count": null,
      "outputs": []
    },
    {
      "cell_type": "code",
      "source": [
        "# データの読み込み\n",
        "df=pd.read_csv('/content/nikkei_software_202307/data/first____data.csv')"
      ],
      "metadata": {
        "id": "VqvZirm5qmI1"
      },
      "execution_count": null,
      "outputs": []
    },
    {
      "cell_type": "code",
      "source": [
        "# データのサイズの確認\n",
        "df.shape"
      ],
      "metadata": {
        "id": "jpSfzlqdqluB"
      },
      "execution_count": null,
      "outputs": []
    },
    {
      "cell_type": "code",
      "source": [
        "# 変数の確認\n",
        "df.info()"
      ],
      "metadata": {
        "id": "c6cNp1Rvs5OO"
      },
      "execution_count": null,
      "outputs": []
    },
    {
      "cell_type": "code",
      "source": [
        "# 50m走のタイムと年収の相関を散布図で確認\n",
        "fig = px.scatter(df, x=\"time\", y=\"salary\")\n",
        "fig.show()"
      ],
      "metadata": {
        "id": "WcUYoQBytANn"
      },
      "execution_count": null,
      "outputs": []
    },
    {
      "cell_type": "code",
      "source": [
        "# 50m走のタイムと年収の相関係数を算出\n",
        "df[['time','salary']].corr().style.background_gradient(cmap='Reds')"
      ],
      "metadata": {
        "id": "WToMOkYEtr85"
      },
      "execution_count": null,
      "outputs": []
    },
    {
      "cell_type": "markdown",
      "source": [],
      "metadata": {
        "id": "aCcXh49nqlPS"
      }
    },
    {
      "cell_type": "code",
      "source": [
        "# カラム名のつけ直し\n",
        "df.columns=['age','time','salary']"
      ],
      "metadata": {
        "id": "pvx9Oyktcvw2"
      },
      "execution_count": null,
      "outputs": []
    },
    {
      "cell_type": "code",
      "source": [
        "# データセットのすべての変数間の散布図を描画\n",
        "fig = px.scatter_matrix(df)\n",
        "fig.show()"
      ],
      "metadata": {
        "id": "IvWfF-r0c0DJ"
      },
      "execution_count": null,
      "outputs": []
    },
    {
      "cell_type": "code",
      "source": [
        "# 各変数間の相関係数の確認\n",
        "df.corr().style.background_gradient(cmap='Reds')"
      ],
      "metadata": {
        "id": "s9OtJRpxc7_v"
      },
      "execution_count": null,
      "outputs": []
    }
  ]
}