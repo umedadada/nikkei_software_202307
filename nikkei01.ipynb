{
  "nbformat": 4,
  "nbformat_minor": 0,
  "metadata": {
    "colab": {
      "private_outputs": true,
      "provenance": [],
      "authorship_tag": "ABX9TyM789CNQZPAuGUrq4n3EpSO",
      "include_colab_link": true
    },
    "kernelspec": {
      "name": "python3",
      "display_name": "Python 3"
    },
    "language_info": {
      "name": "python"
    },
    "gpuClass": "standard"
  },
  "cells": [
    {
      "cell_type": "markdown",
      "metadata": {
        "id": "view-in-github",
        "colab_type": "text"
      },
      "source": [
        "<a href=\"https://colab.research.google.com/github/umedadada/nikkei_software_202307/blob/add_article1/nikkei01.ipynb\" target=\"_parent\"><img src=\"https://colab.research.google.com/assets/colab-badge.svg\" alt=\"Open In Colab\"/></a>"
      ]
    },
    {
      "cell_type": "code",
      "execution_count": null,
      "metadata": {
        "id": "H-SUJ4FWpLIP"
      },
      "outputs": [],
      "source": [
        "!git clone https://github.com/umedadada/nikkei_software_202307.git"
      ]
    },
    {
      "cell_type": "code",
      "source": [
        "import pandas as pd\n",
        "import plotly.express as px"
      ],
      "metadata": {
        "id": "AEXw9yz6qI3z"
      },
      "execution_count": null,
      "outputs": []
    },
    {
      "cell_type": "code",
      "source": [
        "df=pd.read_csv('/content/nikkei_software_202307/data/first____data.csv')"
      ],
      "metadata": {
        "id": "VqvZirm5qmI1"
      },
      "execution_count": null,
      "outputs": []
    },
    {
      "cell_type": "code",
      "source": [
        "# データのサイズの確認\n",
        "df.shape"
      ],
      "metadata": {
        "id": "jpSfzlqdqluB"
      },
      "execution_count": null,
      "outputs": []
    },
    {
      "cell_type": "code",
      "source": [
        "# 変数の確認\n",
        "df.info()"
      ],
      "metadata": {
        "id": "c6cNp1Rvs5OO"
      },
      "execution_count": null,
      "outputs": []
    },
    {
      "cell_type": "code",
      "source": [
        "fig = px.scatter(df, x=\"time\", y=\"salary\")\n",
        "fig.show()"
      ],
      "metadata": {
        "id": "WcUYoQBytANn"
      },
      "execution_count": null,
      "outputs": []
    },
    {
      "cell_type": "code",
      "source": [
        "df[['time','salary']].corr().style.background_gradient(cmap='Reds')"
      ],
      "metadata": {
        "id": "WToMOkYEtr85"
      },
      "execution_count": null,
      "outputs": []
    },
    {
      "cell_type": "markdown",
      "source": [],
      "metadata": {
        "id": "aCcXh49nqlPS"
      }
    },
    {
      "cell_type": "code",
      "source": [
        "df.columns=['age','time','salary']"
      ],
      "metadata": {
        "id": "pvx9Oyktcvw2"
      },
      "execution_count": null,
      "outputs": []
    },
    {
      "cell_type": "code",
      "source": [
        "fig = px.scatter_matrix(df)\n",
        "fig.show()"
      ],
      "metadata": {
        "id": "IvWfF-r0c0DJ"
      },
      "execution_count": null,
      "outputs": []
    },
    {
      "cell_type": "code",
      "source": [
        "df.corr().style.background_gradient(cmap='Reds')"
      ],
      "metadata": {
        "id": "s9OtJRpxc7_v"
      },
      "execution_count": null,
      "outputs": []
    },
    {
      "cell_type": "code",
      "source": [],
      "metadata": {
        "id": "KccLpySZeeEb"
      },
      "execution_count": null,
      "outputs": []
    }
  ]
}